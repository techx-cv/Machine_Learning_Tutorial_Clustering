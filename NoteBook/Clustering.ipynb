{
 "cells": [
  {
   "cell_type": "markdown",
   "metadata": {},
   "source": [
    "<div align='center'>\n",
    "\n",
    "# Machine Learning: Clustering\n",
    "\n",
    "</div>"
   ]
  },
  {
   "cell_type": "markdown",
   "metadata": {},
   "source": [
    "### What is Clustering?\n",
    "Clustering is a general problem that we need to divide the whole dataset into several small groups (clusters) so that the points within each group are quite similar in certain ways. There are lots of daily examples around us:\n",
    "\n",
    "1. Market Segmentation: Divide a broad business market into small segments so within each segments the most profitable characteristic could be discovered. After knowing this, they could select some of segments to become target markets.\n",
    "\n",
    "2. Recommendation System: The system could collect your search history and then recommend similar products/videos/articles to you on the main page.\n",
    "\n",
    "3. Image Segmentation: This is the process when dividing the whole all pixels into different non-overlapping sub groups and the union of them is the whole image.\n",
    "\n",
    "Although it sounds very similar to the classification (perhaps due to the grouping operation), the main difference is that:\n",
    "\n",
    "***Classification problem is to assign points into a given number of predefined categories but the clustering is to identify the similarities between points and group based on them (no given number, no predifined categories).***\n",
    "\n",
    "\n",
    "By studying the clustering algorithm, we will also understand more about the unsupervised learning, a specific type of algorithm in the machine learining."
   ]
  },
  {
   "cell_type": "markdown",
   "metadata": {},
   "source": [
    "### What is Unsupervised Learning?\n",
    "Unlike supervised learning algorithms where each data point has \"features\" and \"labels\" and could be mapped, unsupervised learning algorithm always handle unlabel data.\n",
    "\n",
    "This means that supervised learning algorithms often try to use \"features\" to get a very clear \"answer\" but unsupervised learning algorithms tend to discover the deeply hidden patterns within the dataset, like the probability distribution, density estimation and so on.\n",
    "\n",
    "However, this doesn't necessarily mean that the supervised learning algorithms could always produce better results with higher accuracy, ***it is more about the real situation (what kind of data you could obtain, what kind of problem you want to sovle)***.\n",
    "\n",
    "Talking about the unsupervised learning, here we must introduce a very famous clustering algorithm here: K-Means Algorithm. Although it was firstly proposed in 1957, it is still very powerful and very efficient in lots of situations."
   ]
  },
  {
   "cell_type": "markdown",
   "metadata": {},
   "source": [
    "### K-Means Algorithm: Introduction"
   ]
  },
  {
   "cell_type": "markdown",
   "metadata": {},
   "source": [
    "### Preparation: Loss Function (Dissimilarity)\n",
    "As we mentioned before, the core idea of clustering is to group some points that are similar in some ways. This raises the question: how could we tell whether 2 points are similar or not?\n",
    "\n",
    "In machine learning, the ***object*** in real life are represented by a ***high-dimentional point*** in the feature space, in which each dimention represents a distinct feature of the object.\n",
    "\n",
    "For example, if we want to represent a ***car*** in machine learning problem, we could first choose **features** we are interested and construct the ***point*** using those **features**. If we are interested in **the number of wheels** and **the number of passengers**, we could construct a ***point*** like ***(the number of wheels, the number of passengers)***. So in this way, a normal ***car*** could be represented as ***(4,4)*** as it has 4 wheels and usually could take 4 passengers.\n",
    "\n",
    "If the distance between 2 points is very small, we could say those points are very similar as their features are close to each other.\n",
    "\n",
    "There are many ways to measure the distance, but all of them obey the following important rules:\n",
    "\n",
    "1. The result is non-negative.\n",
    "\n",
    "2. The distance is symmetric: $Distance(A,B) = Distance (B,A)$\n",
    "\n",
    "3. Triangular Inequality: $Distance(A,C) \\leqslant Distance(A,B)+Distance(B,C)$ for any possible A, B, C\n",
    "\n",
    "There are lots of distance measurement, but we commonly use Manhattan distance (L1 norm), Euclidean distance (L2 norm), chessboard distance and so on. Within this tutorial, we will use Euclidean distance and it is always a good choice to try first."
   ]
  },
  {
   "cell_type": "markdown",
   "metadata": {},
   "source": [
    "#### Euclidean Distance\n",
    "Within 2-D feature space, the euclidean distance between $(x_1, x_2)$ and $(y_1, y_2)$ is: $d=\\sqrt{(x_1-y_1)^2+(x_2-y_2)^2}$"
   ]
  },
  {
   "cell_type": "code",
   "execution_count": 1,
   "metadata": {},
   "outputs": [
    {
     "name": "stdout",
     "output_type": "stream",
     "text": [
      "The euclidean distance between 2 points is: 2.8284271247461903\n"
     ]
    }
   ],
   "source": [
    "def euclidean2D(pointX, pointY):\n",
    "    '''\n",
    "        Return the euclidean distance between the point X and the point Y\n",
    "    in 2-D feature space\n",
    "    \n",
    "    Argument:\n",
    "        pointX: tuple, a point with 2 features\n",
    "        pointY: tuple, a point with 2 features\n",
    "    \n",
    "    Return:\n",
    "        result: float, the euclidean distance between 2 points\n",
    "    '''\n",
    "    return ((pointX[0]-pointY[0])**2+(pointX[1]-pointY[1])**2)**0.5\n",
    "\n",
    "pointX=(1, 2)\n",
    "pointY=(3, 4)\n",
    "print(f\"The euclidean distance between 2 points is: {euclidean2D(pointX, pointY)}\")"
   ]
  },
  {
   "cell_type": "markdown",
   "metadata": {},
   "source": [
    "This idea could be easily expanded to N-D feature space and the distance between $(x_1...x_N)$ and $(y_1...y_N)$ is: $d=\\sqrt{\\sum_{i=1}^N (x_i-y_i)^2}$"
   ]
  },
  {
   "cell_type": "code",
   "execution_count": 12,
   "metadata": {},
   "outputs": [
    {
     "name": "stdout",
     "output_type": "stream",
     "text": [
      "The euclidean distance between 2 points is: 11.180339887498949\n",
      "The euclidean distance between 2 points by numpy is: 11.180339887498949\n"
     ]
    }
   ],
   "source": [
    "def euclideanND(pointX, pointY):\n",
    "    '''\n",
    "        Return the euclidean distance between the point X and the point Y\n",
    "    in N-D feature space\n",
    "\n",
    "    Argument:\n",
    "        pointX: tuple, a point with N features\n",
    "        pointY: tuple, a point with N features\n",
    "    \n",
    "    Return:\n",
    "        result: float, the euclidean distance between 2 points\n",
    "    '''\n",
    "    #Find all square of difference as a list\n",
    "    squareDifference=[(pointX[i]-pointY[i])**2 for i in range(len(pointX))]\n",
    "    #Sum all square of difference and return the square root of the result\n",
    "    return sum(squareDifference)**0.5\n",
    "\n",
    "\n",
    "pointX=(1, 2, 3, 4, 5)\n",
    "pointY=(6, 7, 8, 9, 10)\n",
    "print(f\"The euclidean distance between 2 points is: {euclideanND(pointX, pointY)}\")\n",
    "\n",
    "# This could also be calculated by using numpy to find the norm 2 of the difference array\n",
    "# The function used is: np.linalg.norm(inputArray, order of the norm)\n",
    "# For more information, please check: https://numpy.org/doc/stable/reference/generated/numpy.linalg.norm.html\n",
    "import numpy as np\n",
    "print(f\"The euclidean distance between 2 points by numpy is: {np.linalg.norm(np.array(pointX)-np.array(pointY), ord=2)}\")"
   ]
  },
  {
   "cell_type": "markdown",
   "metadata": {},
   "source": [
    "### K-Means Algorithm: from Scratch"
   ]
  }
 ],
 "metadata": {
  "interpreter": {
   "hash": "88279d2366fe020547cde40dd65aa0e3aa662a6ec1f3ca12d88834876c85e1a6"
  },
  "kernelspec": {
   "display_name": "Python 3.9.7",
   "language": "python",
   "name": "python3"
  },
  "language_info": {
   "codemirror_mode": {
    "name": "ipython",
    "version": 3
   },
   "file_extension": ".py",
   "mimetype": "text/x-python",
   "name": "python",
   "nbconvert_exporter": "python",
   "pygments_lexer": "ipython3",
   "version": "3.9.7"
  },
  "orig_nbformat": 4
 },
 "nbformat": 4,
 "nbformat_minor": 2
}
