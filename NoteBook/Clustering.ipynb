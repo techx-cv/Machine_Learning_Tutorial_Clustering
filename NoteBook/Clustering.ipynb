{
 "cells": [
  {
   "cell_type": "markdown",
   "metadata": {},
   "source": [
    "<h1><center>Machine Learning: Clustering</center></h1>"
   ]
  },
  {
   "cell_type": "markdown",
   "metadata": {},
   "source": [
    "### What is Clustering?\n",
    "Clustering is a general problem that we need to divide the whole dataset into several small groups (clusters) so that the points within each group are quite similar in certain ways. There are lots of daily examples around us:\n",
    "\n",
    "1. Market Segmentation: Divide a broad business market into small segments so within each segments the most profitable characteristic could be discovered. After knowing this, they could select some of segments to become target markets.\n",
    "\n",
    "2. Recommendation System: The system could collect your search history and then recommend similar products/videos/articles to you on the main page.\n",
    "\n",
    "3. Image Segmentation: This is the process when dividing the whole all pixels into different non-overlapping sub groups and the union of them is the whole image.\n",
    "\n",
    "Although it sounds very similar to the classification (perhaps due to the grouping operation), the main difference is that:\n",
    "\n",
    "    Classification problem is to assign points into a given number of predefined categories but the clustering is to identify the similarities between points and group based on them (no given number, no predifined categories).\n",
    "\n",
    "\n",
    "By studying the clustering algorithm, we will also understand more about the unsupervised learning, a specific type of algorithm in the machine learining."
   ]
  },
  {
   "cell_type": "markdown",
   "metadata": {},
   "source": [
    "### What is Unsupervised Learning?\n",
    "Unlike supervised learning algorithms where each data point has \"features\" and \"labels\" and could be mapped, unsupervised learning algorithm always handle unlabel data.\n",
    "\n",
    "This means that supervised learning algorithms often try to use \"features\" to get a very clear \"answer\" but unsupervised learning algorithms tend to discover the deeply hidden patterns within the dataset, like the probability distribution, density estimation and so on. \n",
    "\n",
    "Talking about the unsupervised learning, we will introduce a very famous clustering algorithm here: K-Means Algorithm"
   ]
  },
  {
   "cell_type": "code",
   "execution_count": null,
   "metadata": {},
   "outputs": [],
   "source": []
  }
 ],
 "metadata": {
  "interpreter": {
   "hash": "88279d2366fe020547cde40dd65aa0e3aa662a6ec1f3ca12d88834876c85e1a6"
  },
  "kernelspec": {
   "display_name": "Python 3.9.7",
   "language": "python",
   "name": "python3"
  },
  "language_info": {
   "name": "python",
   "version": "3.9.7"
  },
  "orig_nbformat": 4
 },
 "nbformat": 4,
 "nbformat_minor": 2
}
