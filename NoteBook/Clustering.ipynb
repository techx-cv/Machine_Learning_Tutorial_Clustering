{
 "cells": [
  {
   "cell_type": "markdown",
   "metadata": {},
   "source": [
    "<div align='center'>\n",
    "\n",
    "# Machine Learning: Clustering\n",
    "\n",
    "</div>"
   ]
  },
  {
   "cell_type": "markdown",
   "metadata": {},
   "source": [
    "### What is Clustering?\n",
    "Clustering is a general problem that we need to divide the whole dataset into several small groups (clusters) so that the points within each group are quite similar in certain ways. There are lots of daily examples around us:\n",
    "\n",
    "1. Market Segmentation: Divide a broad business market into small segments so within each segments the most profitable characteristic could be discovered. After knowing this, they could select some of segments to become target markets.\n",
    "\n",
    "2. Recommendation System: The system could collect your search history and then recommend similar products/videos/articles to you on the main page.\n",
    "\n",
    "3. Image Segmentation: This is the process when dividing the whole all pixels into different non-overlapping sub groups and the union of them is the whole image.\n",
    "\n",
    "Although it sounds very similar to the classification (perhaps due to the grouping operation), the main difference is that:\n",
    "\n",
    "***Classification problem is to assign points into a given number of predefined categories but the clustering is to identify the similarities between points and group based on them (no given number, no predifined categories).***\n",
    "\n",
    "\n",
    "By studying the clustering algorithm, we will also understand more about the unsupervised learning, a specific type of algorithm in the machine learining."
   ]
  },
  {
   "cell_type": "markdown",
   "metadata": {},
   "source": [
    "### What is Unsupervised Learning?\n",
    "Unlike supervised learning algorithms where each data point has \"features\" and \"labels\" and could be mapped, unsupervised learning algorithm always handle unlabel data.\n",
    "\n",
    "This means that supervised learning algorithms often try to use \"features\" to get a very clear \"answer\" but unsupervised learning algorithms tend to discover the deeply hidden patterns within the dataset, like the probability distribution, density estimation and so on.\n",
    "\n",
    "However, this doesn't necessarily mean that the supervised learning algorithms could always produce better results with higher accuracy, ***it is more about the real situation (what kind of data you could obtain, what kind of problem you want to sovle)***.\n",
    "\n",
    "Talking about the unsupervised learning, here we must introduce a very famous clustering algorithm here: K-Means Algorithm. Although it was firstly proposed in 1957, it is still very powerful and very efficient in lots of situations."
   ]
  },
  {
   "cell_type": "markdown",
   "metadata": {},
   "source": [
    "### K-Means Algorithm: Introduction\n",
    "Unlike traditional machine learning algorithm with classical pipeline, the K-Means algorithm is more like a iterative algorithm, which keeps repeating certain steps until the end condition is met.\n",
    "\n",
    "A classical K-Means algorithm contains the following steps:\n",
    "\n",
    "1. Choose K.\n",
    "\n",
    "2. Randomly initialise the starting representative point for each cluster.\n",
    "\n",
    "3. Assign each data point to the corresponding cluster depending on the distance.\n",
    "\n",
    "4. For every cluster, update the new representative point.\n",
    "\n",
    "5. Repeat step 3 and 4 until the end condition is met.\n",
    "\n",
    "No worry if you can't understand all of these for now, we will implement the whole algorithm step by step after we finish the preparation!"
   ]
  },
  {
   "cell_type": "markdown",
   "metadata": {},
   "source": [
    "### Preparation: Loss Function (Dissimilarity)\n",
    "As we mentioned before, the core idea of clustering is to group some points that are similar in some ways. This raises the question: how could we tell whether 2 points are similar or not?\n",
    "\n",
    "In machine learning, the ***object*** in real life are represented by a ***high-dimentional point*** in the feature space, in which each dimention represents a distinct feature of the object.\n",
    "\n",
    "For example, if we want to represent a ***car*** in machine learning problem, we could first choose **features** we are interested and construct the ***point*** using those **features**. If we are interested in **the number of wheels** and **the number of passengers**, we could construct a ***point*** like ***(the number of wheels, the number of passengers)***. So in this way, a normal ***car*** could be represented as ***(4,4)*** as it has 4 wheels and usually could take 4 passengers.\n",
    "\n",
    "If the distance between 2 points is very small, we could say those points are very similar as their features are close to each other.\n",
    "\n",
    "There are many ways to measure the distance, but all of them obey the following important rules:\n",
    "\n",
    "1. The result is non-negative.\n",
    "\n",
    "2. The distance is symmetric: $Distance(A,B) = Distance (B,A)$\n",
    "\n",
    "3. Triangular Inequality: $Distance(A,C) \\leqslant Distance(A,B)+Distance(B,C)$ for any possible A, B, C\n",
    "\n",
    "There are lots of distance measurement, but we commonly use Manhattan distance (L1 norm), Euclidean distance (L2 norm), chessboard distance and so on. Within this tutorial, we will use Euclidean distance and it is always a good choice to try first."
   ]
  },
  {
   "cell_type": "markdown",
   "metadata": {},
   "source": [
    "#### Euclidean Distance\n",
    "Within 2-D feature space, the euclidean distance between $(x_1, x_2)$ and $(y_1, y_2)$ is: $d=\\sqrt{(x_1-y_1)^2+(x_2-y_2)^2}$"
   ]
  },
  {
   "cell_type": "code",
   "execution_count": 54,
   "metadata": {},
   "outputs": [
    {
     "name": "stdout",
     "output_type": "stream",
     "text": [
      "The euclidean distance between 2 points is: 2.8284271247461903\n"
     ]
    }
   ],
   "source": [
    "def euclidean2D(pointX, pointY):\n",
    "    '''\n",
    "        Return the euclidean distance between the point X and the point Y\n",
    "    in 2-D feature space\n",
    "    \n",
    "    Argument:\n",
    "        pointX: tuple, a point with 2 features\n",
    "        pointY: tuple, a point with 2 features\n",
    "    \n",
    "    Return:\n",
    "        result: float, the euclidean distance between 2 points\n",
    "    '''\n",
    "    return ((pointX[0]-pointY[0])**2+(pointX[1]-pointY[1])**2)**0.5\n",
    "\n",
    "pointX=(1, 2)\n",
    "pointY=(3, 4)\n",
    "print(f\"The euclidean distance between 2 points is: {euclidean2D(pointX, pointY)}\")"
   ]
  },
  {
   "cell_type": "markdown",
   "metadata": {},
   "source": [
    "This idea could be easily expanded to N-D feature space and the distance between $(x_1...x_N)$ and $(y_1...y_N)$ is: $d=\\sqrt{\\sum_{i=1}^N (x_i-y_i)^2}$"
   ]
  },
  {
   "cell_type": "code",
   "execution_count": 55,
   "metadata": {},
   "outputs": [
    {
     "name": "stdout",
     "output_type": "stream",
     "text": [
      "The euclidean distance between 2 points is: 11.180339887498949\n",
      "The euclidean distance between 2 points by numpy is: 11.180339887498949\n"
     ]
    }
   ],
   "source": [
    "def euclideanND(pointX, pointY):\n",
    "    '''\n",
    "        Return the euclidean distance between the point X and the point Y\n",
    "    in N-D feature space\n",
    "\n",
    "    Argument:\n",
    "        pointX: tuple, a point with N features\n",
    "        pointY: tuple, a point with N features\n",
    "    \n",
    "    Return:\n",
    "        result: float, the euclidean distance between 2 points\n",
    "    '''\n",
    "    #Find all square of difference as a list\n",
    "    squareDifference=[(pointX[i]-pointY[i])**2 for i in range(len(pointX))]\n",
    "    #Sum all square of difference and return the square root of the result\n",
    "    return sum(squareDifference)**0.5\n",
    "\n",
    "\n",
    "pointX=(1, 2, 3, 4, 5)\n",
    "pointY=(6, 7, 8, 9, 10)\n",
    "print(f\"The euclidean distance between 2 points is: {euclideanND(pointX, pointY)}\")\n",
    "\n",
    "# This could also be calculated by using numpy to find the norm 2 of the difference array\n",
    "# The function used is: np.linalg.norm(inputArray, order of the norm)\n",
    "# For more information, please check: https://numpy.org/doc/stable/reference/generated/numpy.linalg.norm.html\n",
    "import numpy as np\n",
    "print(f\"The euclidean distance between 2 points by numpy is: {np.linalg.norm(np.array(pointX)-np.array(pointY), ord=2)}\")"
   ]
  },
  {
   "cell_type": "markdown",
   "metadata": {},
   "source": [
    "### K-Means Algorithm from Scratch\n",
    "#### 1. Choose K (how many clusters in total do we want?)\n",
    "It is always a good idea to start from understanding the data. The biggest reason why the machine learning and even deep learning could have such a fantastic performance nowadays is that ***we could access to lots of data easily!***\n",
    "\n",
    "The easiest way we could understand the data is by data visualisation. Here our \"toy\" dataset could be found in the **Dataset** folder and we could write some codes to read those data and plot it."
   ]
  },
  {
   "cell_type": "code",
   "execution_count": 60,
   "metadata": {},
   "outputs": [
    {
     "name": "stdout",
     "output_type": "stream",
     "text": [
      "The total number of points in the dataset is 90 and each point has 2 features.\n"
     ]
    },
    {
     "data": {
      "image/png": "[encoded data removed]",
      "text/plain": [
       "<Figure size 432x288 with 1 Axes>"
      ]
     },
     "metadata": {
      "needs_background": "light"
     },
     "output_type": "display_data"
    },
    {
     "name": "stdout",
     "output_type": "stream",
     "text": [
      "The first point in the dataset is [1.54364004 2.97058974].\n",
      "The first feature of the first point is 1.5436400415855356.\n",
      "The second feature of the first point is 2.9705897391425653.\n"
     ]
    }
   ],
   "source": [
    "import pandas as pd\n",
    "import matplotlib.pyplot as plt\n",
    "\n",
    "def readCSV(path=\"../Dataset/dataset.csv\"):\n",
    "    '''\n",
    "        Read the csv file containing the dataset using the given path\n",
    "    and return it as a numpy array\n",
    "\n",
    "    Arugument:\n",
    "        path: string, the file path to find the csv file\n",
    "    \n",
    "    Return:\n",
    "        dataset: np.ndarray, numpy array with shape (the number of point, the number of features for each point)\n",
    "    '''\n",
    "    dataFrame=pd.read_csv(path)\n",
    "    # Shuffle the dataset :)\n",
    "    dataFrame.sample(frac=1)\n",
    "    return dataFrame.values\n",
    "\n",
    "dataset=readCSV()\n",
    "print(f\"The total number of points in the dataset is {dataset.shape[0]} and each point has {dataset.shape[1]} features.\")\n",
    "\n",
    "# Plot all points on a scatter plot\n",
    "plt.scatter(dataset[:, 0], dataset[:, 1])\n",
    "plt.title(\"Original Dataset\")\n",
    "plt.xlabel(\"First Feature (x1)\")\n",
    "plt.ylabel(\"Second Feature (x2)\")\n",
    "plt.show()\n",
    "\n",
    "# Each point within the dataset could be accessed by using the corresponding index\n",
    "print(f\"The first point in the dataset is {dataset[0]}\")\n",
    "\n",
    "# The feature of each point could also be accessed by index\n",
    "print(f\"The first feature of the first point is {dataset[0][0]}\")\n",
    "print(f\"The second feature of the first point is {dataset[0][1]}\")"
   ]
  },
  {
   "cell_type": "markdown",
   "metadata": {},
   "source": [
    "It could be seen from the plot that the whole dataset could be roughly divided into 3 clusters. So in this case we choose K=3.\n",
    "\n",
    "There is no strict rule for choosing K at this moment. But we do have some methods to optimize our choice in the later steps."
   ]
  },
  {
   "cell_type": "markdown",
   "metadata": {},
   "source": [
    "#### 2. Initialize a representative point for each cluster\n",
    "Just like chooing K, there is no strict rule at this stage. Personally, I prefer to choose K random points from the dataset to start with."
   ]
  },
  {
   "cell_type": "code",
   "execution_count": 57,
   "metadata": {},
   "outputs": [
    {
     "name": "stdout",
     "output_type": "stream",
     "text": [
      "Is the first representative point in the dataset? True.\n",
      "Is the second representative point in the dataset? True.\n",
      "Is the third representative point in the dataset? True.\n"
     ]
    }
   ],
   "source": [
    "import random\n",
    "\n",
    "def randomChoose(dataset, K=3):\n",
    "    '''\n",
    "        Randomly choose K points from the dataset\n",
    "    and return them as a numpy array\n",
    "\n",
    "    Argument:\n",
    "        dataset: np.ndarray, numpy array with shape (the number of point, the number of features for each point)\n",
    "    \n",
    "    Return:\n",
    "        representativePoint: np.ndarray, numpy array with shape (the number of clusters, the number of features for each point)\n",
    "    '''\n",
    "    # random.sample() function could randomly choose k elements from the given sequence and return them as a list\n",
    "    # For more information, please check: https://docs.python.org/3/library/random.html\n",
    "    \n",
    "    # Randomly choose K different indexes from available choices\n",
    "    indexList=[i for i in range(len(dataset))]\n",
    "    indexChosen=random.sample(indexList, K)\n",
    "\n",
    "    # Choose corresponding points using those indexes\n",
    "    representativePoint=[dataset[index] for index in indexChosen]\n",
    "    return np.array(representativePoint)\n",
    "\n",
    "representativePoint=randomChoose(dataset)\n",
    "print(f\"Is the first representative point in the dataset? {representativePoint[0] in dataset[:]}\")\n",
    "print(f\"Is the second representative point in the dataset? {representativePoint[1] in dataset[:]}\")\n",
    "print(f\"Is the third representative point in the dataset? {representativePoint[2] in dataset[:]}\")"
   ]
  },
  {
   "cell_type": "markdown",
   "metadata": {},
   "source": [
    "#### 3. Assign each point to the corresponding cluster depending on the distance\n",
    "To correctly assign the point to the cluster, we compare the distance between the point and every representative point. After that we choose the one with the minimum distance."
   ]
  },
  {
   "cell_type": "code",
   "execution_count": 61,
   "metadata": {},
   "outputs": [
    {
     "name": "stdout",
     "output_type": "stream",
     "text": [
      "The first point is assigned to the cluster 0\n"
     ]
    }
   ],
   "source": [
    "def assignPoint(point, representativePoint):\n",
    "    '''\n",
    "        Return the index of the cluster where the given point\n",
    "    should be assigned to by finding the index of representative\n",
    "    point with the minimum distance\n",
    "    \n",
    "    Argument:\n",
    "        point: np.ndarray, numpy array with shape (1, the number of features for each point)\n",
    "        representativePoint: np.ndarray, numpy array with shape (the number of clusters, the number of features for each point)\n",
    "    \n",
    "    Return:\n",
    "        cluster: int, the index of the cluster where the point should be assigned to\n",
    "    '''\n",
    "    # Find the distance between the given point and every representative point\n",
    "    distance=[euclideanND(point, representativePoint[i]) for i in range(representativePoint.shape[0])]\n",
    "    # Return the index of the representative point with the minimum distance\n",
    "    return np.argmin(distance)\n",
    "\n",
    "def assignDataset(dataset, representativePoint):\n",
    "    '''\n",
    "        Return a numpy array containing all cluster index for every point\n",
    "    in the dataset\n",
    "    \n",
    "    Argument:\n",
    "        dataset: np.ndarray, numpy array with shape (the number of point, the number of features for each point)\n",
    "        representativePoint: np.ndarray, numpy array with shape (the number of clusters, the number of features for each point)\n",
    "    \n",
    "    Return:\n",
    "        cluster: np.ndarray, numpy array with shape (the number of point, 1)   \n",
    "    '''\n",
    "    # Find the corresponding cluster for every point in the dataset\n",
    "    cluster=[assignPoint(dataset[i], representativePoint) for i in range(dataset.shape[0])]\n",
    "    return np.array(cluster)\n",
    "\n",
    "cluster=assignDataset(dataset, representativePoint)\n",
    "print(f\"The first point is assigned to the cluster {cluster[0]}\")"
   ]
  },
  {
   "cell_type": "markdown",
   "metadata": {},
   "source": [
    "#### Update the representative point for each cluster\n",
    "The name \"K-Means\" comes from the fact that we use the mean point (equivalent to the centroid) of each cluster as the representative point.\n",
    "\n",
    "The centroid of a cluster could be found by: $\\frac{1}{|C_i|}\\sum_{x\\in{C_i}} x$\n",
    "\n",
    "$C_i$ means an arbitrary cluster of points.\n",
    "\n",
    "$x\\in{C_i}$ means x is a point within teh cluster $C_i$.\n",
    "\n",
    "$|C_i|$ means the number of points in the cluster $C_i$."
   ]
  }
 ],
 "metadata": {
  "interpreter": {
   "hash": "88279d2366fe020547cde40dd65aa0e3aa662a6ec1f3ca12d88834876c85e1a6"
  },
  "kernelspec": {
   "display_name": "Python 3.9.7",
   "language": "python",
   "name": "python3"
  },
  "language_info": {
   "codemirror_mode": {
    "name": "ipython",
    "version": 3
   },
   "file_extension": ".py",
   "mimetype": "text/x-python",
   "name": "python",
   "nbconvert_exporter": "python",
   "pygments_lexer": "ipython3",
   "version": "3.9.7"
  },
  "orig_nbformat": 4
 },
 "nbformat": 4,
 "nbformat_minor": 2
}
